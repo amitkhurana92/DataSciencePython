{
 "cells": [
  {
   "cell_type": "code",
   "execution_count": 1,
   "metadata": {},
   "outputs": [],
   "source": [
    "\n",
    "\n",
    "import pandas as pd\n",
    "\n",
    "import numpy as np\n",
    "\n",
    "\n"
   ]
  },
  {
   "cell_type": "markdown",
   "metadata": {},
   "source": [
    "# THEORY\n",
    "clasfication  --- f no_f\n",
    "90% 10%  -predict_probability\n",
    "\n",
    "\n",
    "f(x)=y=m1x1+m2x2\n",
    "\n",
    "\n",
    "sigmoid function === converts y into probablity\n",
    "\n",
    "1/1+exp(-f(x))\n",
    "\n",
    "1/1+exp(-y)\n"
   ]
  },
  {
   "cell_type": "code",
   "execution_count": 4,
   "metadata": {},
   "outputs": [],
   "source": [
    "from sklearn.datasets import load_breast_cancer"
   ]
  },
  {
   "cell_type": "code",
   "execution_count": 14,
   "metadata": {},
   "outputs": [
    {
     "data": {
      "text/plain": [
       "{'data': array([[1.799e+01, 1.038e+01, 1.228e+02, ..., 2.654e-01, 4.601e-01,\n",
       "         1.189e-01],\n",
       "        [2.057e+01, 1.777e+01, 1.329e+02, ..., 1.860e-01, 2.750e-01,\n",
       "         8.902e-02],\n",
       "        [1.969e+01, 2.125e+01, 1.300e+02, ..., 2.430e-01, 3.613e-01,\n",
       "         8.758e-02],\n",
       "        ...,\n",
       "        [1.660e+01, 2.808e+01, 1.083e+02, ..., 1.418e-01, 2.218e-01,\n",
       "         7.820e-02],\n",
       "        [2.060e+01, 2.933e+01, 1.401e+02, ..., 2.650e-01, 4.087e-01,\n",
       "         1.240e-01],\n",
       "        [7.760e+00, 2.454e+01, 4.792e+01, ..., 0.000e+00, 2.871e-01,\n",
       "         7.039e-02]]),\n",
       " 'target': array([0, 0, 0, 0, 0, 0, 0, 0, 0, 0, 0, 0, 0, 0, 0, 0, 0, 0, 0, 1, 1, 1,\n",
       "        0, 0, 0, 0, 0, 0, 0, 0, 0, 0, 0, 0, 0, 0, 0, 1, 0, 0, 0, 0, 0, 0,\n",
       "        0, 0, 1, 0, 1, 1, 1, 1, 1, 0, 0, 1, 0, 0, 1, 1, 1, 1, 0, 1, 0, 0,\n",
       "        1, 1, 1, 1, 0, 1, 0, 0, 1, 0, 1, 0, 0, 1, 1, 1, 0, 0, 1, 0, 0, 0,\n",
       "        1, 1, 1, 0, 1, 1, 0, 0, 1, 1, 1, 0, 0, 1, 1, 1, 1, 0, 1, 1, 0, 1,\n",
       "        1, 1, 1, 1, 1, 1, 1, 0, 0, 0, 1, 0, 0, 1, 1, 1, 0, 0, 1, 0, 1, 0,\n",
       "        0, 1, 0, 0, 1, 1, 0, 1, 1, 0, 1, 1, 1, 1, 0, 1, 1, 1, 1, 1, 1, 1,\n",
       "        1, 1, 0, 1, 1, 1, 1, 0, 0, 1, 0, 1, 1, 0, 0, 1, 1, 0, 0, 1, 1, 1,\n",
       "        1, 0, 1, 1, 0, 0, 0, 1, 0, 1, 0, 1, 1, 1, 0, 1, 1, 0, 0, 1, 0, 0,\n",
       "        0, 0, 1, 0, 0, 0, 1, 0, 1, 0, 1, 1, 0, 1, 0, 0, 0, 0, 1, 1, 0, 0,\n",
       "        1, 1, 1, 0, 1, 1, 1, 1, 1, 0, 0, 1, 1, 0, 1, 1, 0, 0, 1, 0, 1, 1,\n",
       "        1, 1, 0, 1, 1, 1, 1, 1, 0, 1, 0, 0, 0, 0, 0, 0, 0, 0, 0, 0, 0, 0,\n",
       "        0, 0, 1, 1, 1, 1, 1, 1, 0, 1, 0, 1, 1, 0, 1, 1, 0, 1, 0, 0, 1, 1,\n",
       "        1, 1, 1, 1, 1, 1, 1, 1, 1, 1, 1, 0, 1, 1, 0, 1, 0, 1, 1, 1, 1, 1,\n",
       "        1, 1, 1, 1, 1, 1, 1, 1, 1, 0, 1, 1, 1, 0, 1, 0, 1, 1, 1, 1, 0, 0,\n",
       "        0, 1, 1, 1, 1, 0, 1, 0, 1, 0, 1, 1, 1, 0, 1, 1, 1, 1, 1, 1, 1, 0,\n",
       "        0, 0, 1, 1, 1, 1, 1, 1, 1, 1, 1, 1, 1, 0, 0, 1, 0, 0, 0, 1, 0, 0,\n",
       "        1, 1, 1, 1, 1, 0, 1, 1, 1, 1, 1, 0, 1, 1, 1, 0, 1, 1, 0, 0, 1, 1,\n",
       "        1, 1, 1, 1, 0, 1, 1, 1, 1, 1, 1, 1, 0, 1, 1, 1, 1, 1, 0, 1, 1, 0,\n",
       "        1, 1, 1, 1, 1, 1, 1, 1, 1, 1, 1, 1, 0, 1, 0, 0, 1, 0, 1, 1, 1, 1,\n",
       "        1, 0, 1, 1, 0, 1, 0, 1, 1, 0, 1, 0, 1, 1, 1, 1, 1, 1, 1, 1, 0, 0,\n",
       "        1, 1, 1, 1, 1, 1, 0, 1, 1, 1, 1, 1, 1, 1, 1, 1, 1, 0, 1, 1, 1, 1,\n",
       "        1, 1, 1, 0, 1, 0, 1, 1, 0, 1, 1, 1, 1, 1, 0, 0, 1, 0, 1, 0, 1, 1,\n",
       "        1, 1, 1, 0, 1, 1, 0, 1, 0, 1, 0, 0, 1, 1, 1, 0, 1, 1, 1, 1, 1, 1,\n",
       "        1, 1, 1, 1, 1, 0, 1, 0, 0, 1, 1, 1, 1, 1, 1, 1, 1, 1, 1, 1, 1, 1,\n",
       "        1, 1, 1, 1, 1, 1, 1, 1, 1, 1, 1, 1, 0, 0, 0, 0, 0, 0, 1]),\n",
       " 'target_names': array(['malignant', 'benign'], dtype='<U9'),\n",
       " 'DESCR': '.. _breast_cancer_dataset:\\n\\nBreast cancer wisconsin (diagnostic) dataset\\n--------------------------------------------\\n\\n**Data Set Characteristics:**\\n\\n    :Number of Instances: 569\\n\\n    :Number of Attributes: 30 numeric, predictive attributes and the class\\n\\n    :Attribute Information:\\n        - radius (mean of distances from center to points on the perimeter)\\n        - texture (standard deviation of gray-scale values)\\n        - perimeter\\n        - area\\n        - smoothness (local variation in radius lengths)\\n        - compactness (perimeter^2 / area - 1.0)\\n        - concavity (severity of concave portions of the contour)\\n        - concave points (number of concave portions of the contour)\\n        - symmetry \\n        - fractal dimension (\"coastline approximation\" - 1)\\n\\n        The mean, standard error, and \"worst\" or largest (mean of the three\\n        largest values) of these features were computed for each image,\\n        resulting in 30 features.  For instance, field 3 is Mean Radius, field\\n        13 is Radius SE, field 23 is Worst Radius.\\n\\n        - class:\\n                - WDBC-Malignant\\n                - WDBC-Benign\\n\\n    :Summary Statistics:\\n\\n    ===================================== ====== ======\\n                                           Min    Max\\n    ===================================== ====== ======\\n    radius (mean):                        6.981  28.11\\n    texture (mean):                       9.71   39.28\\n    perimeter (mean):                     43.79  188.5\\n    area (mean):                          143.5  2501.0\\n    smoothness (mean):                    0.053  0.163\\n    compactness (mean):                   0.019  0.345\\n    concavity (mean):                     0.0    0.427\\n    concave points (mean):                0.0    0.201\\n    symmetry (mean):                      0.106  0.304\\n    fractal dimension (mean):             0.05   0.097\\n    radius (standard error):              0.112  2.873\\n    texture (standard error):             0.36   4.885\\n    perimeter (standard error):           0.757  21.98\\n    area (standard error):                6.802  542.2\\n    smoothness (standard error):          0.002  0.031\\n    compactness (standard error):         0.002  0.135\\n    concavity (standard error):           0.0    0.396\\n    concave points (standard error):      0.0    0.053\\n    symmetry (standard error):            0.008  0.079\\n    fractal dimension (standard error):   0.001  0.03\\n    radius (worst):                       7.93   36.04\\n    texture (worst):                      12.02  49.54\\n    perimeter (worst):                    50.41  251.2\\n    area (worst):                         185.2  4254.0\\n    smoothness (worst):                   0.071  0.223\\n    compactness (worst):                  0.027  1.058\\n    concavity (worst):                    0.0    1.252\\n    concave points (worst):               0.0    0.291\\n    symmetry (worst):                     0.156  0.664\\n    fractal dimension (worst):            0.055  0.208\\n    ===================================== ====== ======\\n\\n    :Missing Attribute Values: None\\n\\n    :Class Distribution: 212 - Malignant, 357 - Benign\\n\\n    :Creator:  Dr. William H. Wolberg, W. Nick Street, Olvi L. Mangasarian\\n\\n    :Donor: Nick Street\\n\\n    :Date: November, 1995\\n\\nThis is a copy of UCI ML Breast Cancer Wisconsin (Diagnostic) datasets.\\nhttps://goo.gl/U2Uwz2\\n\\nFeatures are computed from a digitized image of a fine needle\\naspirate (FNA) of a breast mass.  They describe\\ncharacteristics of the cell nuclei present in the image.\\n\\nSeparating plane described above was obtained using\\nMultisurface Method-Tree (MSM-T) [K. P. Bennett, \"Decision Tree\\nConstruction Via Linear Programming.\" Proceedings of the 4th\\nMidwest Artificial Intelligence and Cognitive Science Society,\\npp. 97-101, 1992], a classification method which uses linear\\nprogramming to construct a decision tree.  Relevant features\\nwere selected using an exhaustive search in the space of 1-4\\nfeatures and 1-3 separating planes.\\n\\nThe actual linear program used to obtain the separating plane\\nin the 3-dimensional space is that described in:\\n[K. P. Bennett and O. L. Mangasarian: \"Robust Linear\\nProgramming Discrimination of Two Linearly Inseparable Sets\",\\nOptimization Methods and Software 1, 1992, 23-34].\\n\\nThis database is also available through the UW CS ftp server:\\n\\nftp ftp.cs.wisc.edu\\ncd math-prog/cpo-dataset/machine-learn/WDBC/\\n\\n.. topic:: References\\n\\n   - W.N. Street, W.H. Wolberg and O.L. Mangasarian. Nuclear feature extraction \\n     for breast tumor diagnosis. IS&T/SPIE 1993 International Symposium on \\n     Electronic Imaging: Science and Technology, volume 1905, pages 861-870,\\n     San Jose, CA, 1993.\\n   - O.L. Mangasarian, W.N. Street and W.H. Wolberg. Breast cancer diagnosis and \\n     prognosis via linear programming. Operations Research, 43(4), pages 570-577, \\n     July-August 1995.\\n   - W.H. Wolberg, W.N. Street, and O.L. Mangasarian. Machine learning techniques\\n     to diagnose breast cancer from fine-needle aspirates. Cancer Letters 77 (1994) \\n     163-171.',\n",
       " 'feature_names': array(['mean radius', 'mean texture', 'mean perimeter', 'mean area',\n",
       "        'mean smoothness', 'mean compactness', 'mean concavity',\n",
       "        'mean concave points', 'mean symmetry', 'mean fractal dimension',\n",
       "        'radius error', 'texture error', 'perimeter error', 'area error',\n",
       "        'smoothness error', 'compactness error', 'concavity error',\n",
       "        'concave points error', 'symmetry error',\n",
       "        'fractal dimension error', 'worst radius', 'worst texture',\n",
       "        'worst perimeter', 'worst area', 'worst smoothness',\n",
       "        'worst compactness', 'worst concavity', 'worst concave points',\n",
       "        'worst symmetry', 'worst fractal dimension'], dtype='<U23'),\n",
       " 'filename': 'C:\\\\ProgramData\\\\Anaconda3\\\\lib\\\\site-packages\\\\sklearn\\\\datasets\\\\data\\\\breast_cancer.csv'}"
      ]
     },
     "execution_count": 14,
     "metadata": {},
     "output_type": "execute_result"
    }
   ],
   "source": [
    "dt =load_breast_cancer()\n",
    "\n",
    "dt"
   ]
  },
  {
   "cell_type": "code",
   "execution_count": 38,
   "metadata": {},
   "outputs": [
    {
     "data": {
      "text/plain": [
       "array(['mean radius', 'mean texture', 'mean perimeter', 'mean area',\n",
       "       'mean smoothness', 'mean compactness', 'mean concavity',\n",
       "       'mean concave points', 'mean symmetry', 'mean fractal dimension',\n",
       "       'radius error', 'texture error', 'perimeter error', 'area error',\n",
       "       'smoothness error', 'compactness error', 'concavity error',\n",
       "       'concave points error', 'symmetry error',\n",
       "       'fractal dimension error', 'worst radius', 'worst texture',\n",
       "       'worst perimeter', 'worst area', 'worst smoothness',\n",
       "       'worst compactness', 'worst concavity', 'worst concave points',\n",
       "       'worst symmetry', 'worst fractal dimension'], dtype='<U23')"
      ]
     },
     "execution_count": 38,
     "metadata": {},
     "output_type": "execute_result"
    }
   ],
   "source": [
    "dt.feature_names\n",
    "\n"
   ]
  },
  {
   "cell_type": "code",
   "execution_count": 24,
   "metadata": {},
   "outputs": [],
   "source": [
    "from sklearn.model_selection import train_test_split\n",
    "\n",
    "# Split dataset into training set and test set\n",
    "X_train, X_test, y_train, y_test = train_test_split(dt.data,dt.target, test_size=0.2,random_state=100)  "
   ]
  },
  {
   "cell_type": "code",
   "execution_count": 78,
   "metadata": {},
   "outputs": [
    {
     "data": {
      "text/plain": [
       "LogisticRegression(C=1, class_weight=None, dual=False, fit_intercept=True,\n",
       "                   intercept_scaling=1, l1_ratio=None, max_iter=5000,\n",
       "                   multi_class='auto', n_jobs=None, penalty='l1',\n",
       "                   random_state=100, solver='saga', tol=0.0001, verbose=0,\n",
       "                   warm_start=False)"
      ]
     },
     "execution_count": 78,
     "metadata": {},
     "output_type": "execute_result"
    }
   ],
   "source": [
    "# import the logistic regressor \n",
    "\n",
    "from sklearn.linear_model import LogisticRegression\n",
    "\n",
    "#REGULARIZATION--- L2 ridge\n",
    "#L1 --LASSO\n",
    "\n",
    "\n",
    "\n",
    "\n",
    "regressor_r = LogisticRegression(C=1,random_state=100, max_iter=5000, \n",
    "                                 penalty='l1', solver='saga') \n",
    "regressor_r"
   ]
  },
  {
   "cell_type": "code",
   "execution_count": 53,
   "metadata": {},
   "outputs": [],
   "source": [
    "??regressor_r\n",
    "\n",
    "\n"
   ]
  },
  {
   "cell_type": "code",
   "execution_count": 79,
   "metadata": {},
   "outputs": [
    {
     "data": {
      "text/plain": [
       "LogisticRegression(C=1, class_weight=None, dual=False, fit_intercept=True,\n",
       "                   intercept_scaling=1, l1_ratio=None, max_iter=5000,\n",
       "                   multi_class='auto', n_jobs=None, penalty='l1',\n",
       "                   random_state=100, solver='saga', tol=0.0001, verbose=0,\n",
       "                   warm_start=False)"
      ]
     },
     "execution_count": 79,
     "metadata": {},
     "output_type": "execute_result"
    }
   ],
   "source": [
    "\n",
    "\n",
    " \n",
    "regressor_r.fit(X_train, y_train) #training the algorithm\n",
    "\n",
    "regressor_r"
   ]
  },
  {
   "cell_type": "code",
   "execution_count": 80,
   "metadata": {},
   "outputs": [
    {
     "name": "stdout",
     "output_type": "stream",
     "text": [
      "[0.00295199]\n",
      "[[ 0.01975652 -0.00567684  0.0948566   0.01345349  0.         -0.00022432\n",
      "  -0.00076729  0.          0.          0.          0.         -0.00019836\n",
      "  -0.00260552 -0.03795916  0.          0.          0.          0.\n",
      "   0.          0.          0.02098527 -0.02424623  0.06937431 -0.02850882\n",
      "   0.         -0.00221735 -0.00316891 -0.00047541  0.          0.        ]]\n"
     ]
    }
   ],
   "source": [
    "\n",
    "#To retrieve the intercept:\n",
    "print(regressor_r.intercept_)\n",
    "#For retrieving the slope:\n",
    "print(regressor_r.coef_)\n"
   ]
  },
  {
   "cell_type": "code",
   "execution_count": 62,
   "metadata": {},
   "outputs": [
    {
     "data": {
      "text/plain": [
       "array(['mean radius', 'mean texture', 'mean perimeter', 'mean area',\n",
       "       'mean smoothness', 'mean compactness', 'mean concavity',\n",
       "       'mean concave points', 'mean symmetry', 'mean fractal dimension',\n",
       "       'radius error', 'texture error', 'perimeter error', 'area error',\n",
       "       'smoothness error', 'compactness error', 'concavity error',\n",
       "       'concave points error', 'symmetry error',\n",
       "       'fractal dimension error', 'worst radius', 'worst texture',\n",
       "       'worst perimeter', 'worst area', 'worst smoothness',\n",
       "       'worst compactness', 'worst concavity', 'worst concave points',\n",
       "       'worst symmetry', 'worst fractal dimension'], dtype='<U23')"
      ]
     },
     "execution_count": 62,
     "metadata": {},
     "output_type": "execute_result"
    }
   ],
   "source": [
    "dt.feature_names\n"
   ]
  },
  {
   "cell_type": "code",
   "execution_count": 81,
   "metadata": {},
   "outputs": [
    {
     "data": {
      "text/plain": [
       "0.9164835164835164"
      ]
     },
     "execution_count": 81,
     "metadata": {},
     "output_type": "execute_result"
    }
   ],
   "source": [
    "#train accuracy score\n",
    "regressor_r.score(X_train,y_train)\n",
    "\n",
    "\n",
    "#0.9164835164835164"
   ]
  },
  {
   "cell_type": "code",
   "execution_count": 82,
   "metadata": {},
   "outputs": [
    {
     "data": {
      "text/plain": [
       "0.9473684210526315"
      ]
     },
     "execution_count": 82,
     "metadata": {},
     "output_type": "execute_result"
    }
   ],
   "source": [
    "#test accuracy score\n",
    "regressor_r.score(X_test,y_test)\n",
    "#0.9473684210526315\n"
   ]
  },
  {
   "cell_type": "code",
   "execution_count": 87,
   "metadata": {},
   "outputs": [],
   "source": [
    "y_pred=regressor_r.predict(X_test)"
   ]
  },
  {
   "cell_type": "code",
   "execution_count": 86,
   "metadata": {},
   "outputs": [
    {
     "data": {
      "text/plain": [
       "array([[9.61295515e-01, 3.87044846e-02],\n",
       "       [8.21338810e-01, 1.78661190e-01],\n",
       "       [9.99948880e-01, 5.11199764e-05],\n",
       "       [9.89249767e-03, 9.90107502e-01],\n",
       "       [1.49496705e-02, 9.85050329e-01],\n",
       "       [2.26598349e-02, 9.77340165e-01],\n",
       "       [9.82005998e-01, 1.79940024e-02],\n",
       "       [9.99998709e-01, 1.29059916e-06],\n",
       "       [6.54781258e-01, 3.45218742e-01],\n",
       "       [1.38718848e-01, 8.61281152e-01],\n",
       "       [8.05683111e-02, 9.19431689e-01],\n",
       "       [1.00000000e+00, 1.26773277e-11],\n",
       "       [1.00000000e+00, 2.73174416e-26],\n",
       "       [9.99999997e-01, 2.88339096e-09],\n",
       "       [1.45162880e-01, 8.54837120e-01],\n",
       "       [8.55609392e-01, 1.44390608e-01],\n",
       "       [9.76752158e-01, 2.32478420e-02],\n",
       "       [8.03602204e-02, 9.19639780e-01],\n",
       "       [1.79363515e-02, 9.82063649e-01],\n",
       "       [6.48680047e-02, 9.35131995e-01],\n",
       "       [6.90837757e-01, 3.09162243e-01],\n",
       "       [1.92774990e-02, 9.80722501e-01],\n",
       "       [1.39168363e-01, 8.60831637e-01],\n",
       "       [1.00000000e+00, 1.68410408e-15],\n",
       "       [9.95930286e-01, 4.06971410e-03],\n",
       "       [9.88876987e-01, 1.11230129e-02],\n",
       "       [6.45818784e-02, 9.35418122e-01],\n",
       "       [4.32040378e-02, 9.56795962e-01],\n",
       "       [3.36264411e-02, 9.66373559e-01],\n",
       "       [3.22502975e-02, 9.67749702e-01],\n",
       "       [2.74655818e-02, 9.72534418e-01],\n",
       "       [1.06816400e-01, 8.93183600e-01],\n",
       "       [2.40948086e-02, 9.75905191e-01],\n",
       "       [9.99881292e-01, 1.18708015e-04],\n",
       "       [9.99803298e-01, 1.96701567e-04],\n",
       "       [2.10530041e-02, 9.78946996e-01],\n",
       "       [4.38209428e-02, 9.56179057e-01],\n",
       "       [1.20954380e-01, 8.79045620e-01],\n",
       "       [1.31843221e-02, 9.86815678e-01],\n",
       "       [1.00000000e+00, 2.59364960e-11],\n",
       "       [9.92535851e-01, 7.46414949e-03],\n",
       "       [2.20037403e-02, 9.77996260e-01],\n",
       "       [9.45912990e-03, 9.90540870e-01],\n",
       "       [8.68609996e-01, 1.31390004e-01],\n",
       "       [1.96728031e-01, 8.03271969e-01],\n",
       "       [9.99939571e-01, 6.04286701e-05],\n",
       "       [1.88694271e-02, 9.81130573e-01],\n",
       "       [5.92377097e-02, 9.40762290e-01],\n",
       "       [1.01037293e-02, 9.89896271e-01],\n",
       "       [1.16476272e-02, 9.88352373e-01],\n",
       "       [8.16061980e-01, 1.83938020e-01],\n",
       "       [1.67954649e-02, 9.83204535e-01],\n",
       "       [7.53787198e-01, 2.46212802e-01],\n",
       "       [9.95863386e-01, 4.13661388e-03],\n",
       "       [6.63631202e-02, 9.33636880e-01],\n",
       "       [1.74991240e-01, 8.25008760e-01],\n",
       "       [3.38364381e-02, 9.66163562e-01],\n",
       "       [1.23046955e-01, 8.76953045e-01],\n",
       "       [1.06290452e-01, 8.93709548e-01],\n",
       "       [2.45648508e-02, 9.75435149e-01],\n",
       "       [9.99995029e-01, 4.97146068e-06],\n",
       "       [9.99992862e-01, 7.13787230e-06],\n",
       "       [9.47082344e-02, 9.05291766e-01],\n",
       "       [1.01026151e-01, 8.98973849e-01],\n",
       "       [9.99999952e-01, 4.82044490e-08],\n",
       "       [2.13160072e-02, 9.78683993e-01],\n",
       "       [9.92394100e-01, 7.60589963e-03],\n",
       "       [1.00000000e+00, 3.06739562e-17],\n",
       "       [7.96068718e-02, 9.20393128e-01],\n",
       "       [9.99944899e-01, 5.51006498e-05],\n",
       "       [9.99997013e-01, 2.98705246e-06],\n",
       "       [9.89020086e-02, 9.01097991e-01],\n",
       "       [8.95496115e-01, 1.04503885e-01],\n",
       "       [1.00000000e+00, 4.62375534e-12],\n",
       "       [5.06695847e-02, 9.49330415e-01],\n",
       "       [8.60403656e-02, 9.13959634e-01],\n",
       "       [1.83016894e-01, 8.16983106e-01],\n",
       "       [9.99987257e-01, 1.27427058e-05],\n",
       "       [9.99998778e-01, 1.22171904e-06],\n",
       "       [2.04833651e-02, 9.79516635e-01],\n",
       "       [1.06458639e-01, 8.93541361e-01],\n",
       "       [2.92374074e-01, 7.07625926e-01],\n",
       "       [9.81759586e-01, 1.82404142e-02],\n",
       "       [9.13283667e-01, 8.67163325e-02],\n",
       "       [7.66497500e-02, 9.23350250e-01],\n",
       "       [9.99457026e-01, 5.42974170e-04],\n",
       "       [1.00000000e+00, 2.62815657e-32],\n",
       "       [2.92840809e-02, 9.70715919e-01],\n",
       "       [9.99999970e-01, 3.02122300e-08],\n",
       "       [3.73762972e-02, 9.62623703e-01],\n",
       "       [2.91810687e-02, 9.70818931e-01],\n",
       "       [2.11332431e-01, 7.88667569e-01],\n",
       "       [6.41534203e-02, 9.35846580e-01],\n",
       "       [9.99999896e-01, 1.04094302e-07],\n",
       "       [2.33143860e-02, 9.76685614e-01],\n",
       "       [9.95936719e-01, 4.06328082e-03],\n",
       "       [9.94884126e-01, 5.11587436e-03],\n",
       "       [1.44647689e-02, 9.85535231e-01],\n",
       "       [1.00000000e+00, 6.82452737e-12],\n",
       "       [8.75997277e-01, 1.24002723e-01],\n",
       "       [8.40483487e-01, 1.59516513e-01],\n",
       "       [9.99980480e-01, 1.95203416e-05],\n",
       "       [3.69099729e-02, 9.63090027e-01],\n",
       "       [3.44304294e-02, 9.65569571e-01],\n",
       "       [3.69322549e-01, 6.30677451e-01],\n",
       "       [1.39364991e-01, 8.60635009e-01],\n",
       "       [1.18260538e-02, 9.88173946e-01],\n",
       "       [3.51558504e-01, 6.48441496e-01],\n",
       "       [2.64175339e-02, 9.73582466e-01],\n",
       "       [3.29061319e-01, 6.70938681e-01],\n",
       "       [9.89774651e-01, 1.02253494e-02],\n",
       "       [1.07720827e-02, 9.89227917e-01],\n",
       "       [9.99992628e-01, 7.37241223e-06],\n",
       "       [2.80566621e-02, 9.71943338e-01]])"
      ]
     },
     "execution_count": 86,
     "metadata": {},
     "output_type": "execute_result"
    }
   ],
   "source": [
    "dataset=regressor_r.predict_proba(X_test)\n",
    "\n",
    "\n",
    "\n",
    "#threshold=.4\n",
    "\n",
    "\n",
    "\n"
   ]
  },
  {
   "cell_type": "code",
   "execution_count": 84,
   "metadata": {},
   "outputs": [
    {
     "data": {
      "text/plain": [
       "array([0, 0, 0, 1, 1, 1, 0, 0, 0, 1, 1, 0, 0, 0, 1, 0, 0, 1, 1, 1, 0, 1,\n",
       "       1, 0, 0, 0, 1, 1, 1, 1, 1, 1, 1, 0, 0, 1, 1, 1, 1, 0, 0, 1, 1, 0,\n",
       "       1, 0, 1, 1, 1, 1, 0, 1, 0, 0, 1, 1, 1, 1, 1, 1, 0, 0, 1, 1, 0, 1,\n",
       "       0, 0, 1, 0, 0, 1, 0, 0, 1, 1, 1, 0, 0, 1, 1, 1, 0, 0, 1, 0, 0, 1,\n",
       "       0, 1, 1, 1, 1, 0, 1, 0, 0, 1, 0, 0, 0, 0, 1, 1, 1, 1, 1, 1, 1, 1,\n",
       "       0, 1, 0, 1])"
      ]
     },
     "execution_count": 84,
     "metadata": {},
     "output_type": "execute_result"
    }
   ],
   "source": [
    "y_pred"
   ]
  },
  {
   "cell_type": "code",
   "execution_count": 29,
   "metadata": {},
   "outputs": [
    {
     "data": {
      "text/plain": [
       "(114,)"
      ]
     },
     "execution_count": 29,
     "metadata": {},
     "output_type": "execute_result"
    }
   ],
   "source": [
    "y_test.shape"
   ]
  },
  {
   "cell_type": "code",
   "execution_count": 88,
   "metadata": {},
   "outputs": [
    {
     "name": "stdout",
     "output_type": "stream",
     "text": [
      "[[46  3]\n",
      " [ 3 62]]\n"
     ]
    }
   ],
   "source": [
    "from sklearn import metrics\n",
    "print(metrics.confusion_matrix(y_test,y_pred ))\n"
   ]
  },
  {
   "cell_type": "code",
   "execution_count": 90,
   "metadata": {},
   "outputs": [
    {
     "data": {
      "text/plain": [
       "<matplotlib.axes._subplots.AxesSubplot at 0x185e6c96ac8>"
      ]
     },
     "execution_count": 90,
     "metadata": {},
     "output_type": "execute_result"
    },
    {
     "data": {
      "image/png": "[encoded data removed]",
      "text/plain": [
       "<Figure size 432x288 with 2 Axes>"
      ]
     },
     "metadata": {
      "needs_background": "light"
     },
     "output_type": "display_data"
    }
   ],
   "source": [
    "\n",
    "import seaborn as sns\n",
    "\n",
    "sns.heatmap(metrics.confusion_matrix(y_test,y_pred ),annot=True)\n"
   ]
  },
  {
   "cell_type": "code",
   "execution_count": 33,
   "metadata": {},
   "outputs": [
    {
     "name": "stdout",
     "output_type": "stream",
     "text": [
      "Accuracy:               precision    recall  f1-score   support\n",
      "\n",
      "           0       0.92      0.90      0.91        49\n",
      "           1       0.92      0.94      0.93        65\n",
      "\n",
      "    accuracy                           0.92       114\n",
      "   macro avg       0.92      0.92      0.92       114\n",
      "weighted avg       0.92      0.92      0.92       114\n",
      "\n"
     ]
    }
   ],
   "source": [
    "from sklearn import metrics\n",
    "print(\"Accuracy:\",metrics.classification_report(y_test, y_pred))\n",
    "\n",
    "\n"
   ]
  },
  {
   "cell_type": "markdown",
   "metadata": {},
   "source": [
    "# THEORY\n",
    "\n",
    "\n",
    "sensitivity ==recall\n",
    "specificity   ==\n",
    "\n",
    "\n",
    "precision\n",
    "f1 score\n",
    "\n",
    "\n",
    "a+b/2\n",
    "\n",
    "2*a*b/a+b"
   ]
  },
  {
   "cell_type": "code",
   "execution_count": 91,
   "metadata": {},
   "outputs": [
    {
     "data": {
      "text/plain": [
       "0.9473684210526315"
      ]
     },
     "execution_count": 91,
     "metadata": {},
     "output_type": "execute_result"
    }
   ],
   "source": [
    "from sklearn import metrics\n",
    "metrics.accuracy_score(y_test, y_pred)\n",
    "\n",
    "#classification_report()"
   ]
  },
  {
   "cell_type": "markdown",
   "metadata": {},
   "source": [
    "# ROC AUC CURVE"
   ]
  },
  {
   "cell_type": "code",
   "execution_count": 35,
   "metadata": {},
   "outputs": [
    {
     "name": "stdout",
     "output_type": "stream",
     "text": [
      "Accuracy: (array([0.        , 0.10204082, 1.        ]), array([0.        , 0.93846154, 1.        ]), array([2, 1, 0]))\n"
     ]
    }
   ],
   "source": [
    "from sklearn import metrics\n",
    "print(\"Accuracy:\",metrics.roc_curve(y_test, y_pred))\n"
   ]
  },
  {
   "cell_type": "markdown",
   "metadata": {},
   "source": [
    "# PLOT OF ROC"
   ]
  },
  {
   "cell_type": "code",
   "execution_count": 99,
   "metadata": {},
   "outputs": [
    {
     "data": {
      "image/png": "[encoded data removed]",
      "text/plain": [
       "<Figure size 432x288 with 1 Axes>"
      ]
     },
     "metadata": {
      "needs_background": "light"
     },
     "output_type": "display_data"
    }
   ],
   "source": [
    "fpr=[0.        , 0.10204082, 1.        ]\n",
    "tpr=[0.        , 0.93846154, 1.        ]\n",
    "\n",
    "#pd.DataFrame(fpr,tpr)\n",
    "\n",
    "import matplotlib.pyplot as plt\n",
    "\n",
    "plt.scatter(fpr,tpr)\n",
    "plt.show()\n",
    "#sns.lmplot(fpr,tpr)"
   ]
  }
 ],
 "metadata": {
  "kernelspec": {
   "display_name": "Python 3",
   "language": "python",
   "name": "python3"
  },
  "language_info": {
   "codemirror_mode": {
    "name": "ipython",
    "version": 3
   },
   "file_extension": ".py",
   "mimetype": "text/x-python",
   "name": "python",
   "nbconvert_exporter": "python",
   "pygments_lexer": "ipython3",
   "version": "3.7.6"
  }
 },
 "nbformat": 4,
 "nbformat_minor": 4
}
