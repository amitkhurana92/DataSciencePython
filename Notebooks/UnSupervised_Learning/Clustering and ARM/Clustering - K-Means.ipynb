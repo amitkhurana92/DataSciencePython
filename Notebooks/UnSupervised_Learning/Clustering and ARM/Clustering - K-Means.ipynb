{
 "cells": [
  {
   "cell_type": "code",
   "execution_count": 1,
   "metadata": {},
   "outputs": [],
   "source": [
    "#Import libraries\n",
    "\n",
    "import numpy as np\n",
    "import pandas as pd\n",
    "import matplotlib.pyplot as plt\n",
    "\n",
    "#from sklearn.decomposition import PCA\n",
    "\n",
    "\n",
    "\n",
    "\n",
    "\n",
    "\n"
   ]
  },
  {
   "cell_type": "markdown",
   "metadata": {},
   "source": [
    "(![image.png](MiniBatchKmeans.png))"
   ]
  },
  {
   "cell_type": "markdown",
   "metadata": {},
   "source": [
    "# RANDOM DATASET"
   ]
  },
  {
   "cell_type": "code",
   "execution_count": null,
   "metadata": {},
   "outputs": [],
   "source": [
    "X= -2 * np.random.rand(100,2)\n",
    "X"
   ]
  },
  {
   "cell_type": "code",
   "execution_count": 42,
   "metadata": {},
   "outputs": [
    {
     "data": {
      "text/plain": [
       "array([[-0.74198681, -1.77931482],\n",
       "       [-1.01624494, -0.66852947],\n",
       "       [-0.31980645, -1.61964213],\n",
       "       [-1.23856347, -0.67030447],\n",
       "       [-0.6322364 , -1.72754937],\n",
       "       [-1.47787624, -0.29559001],\n",
       "       [-0.2674619 , -0.75407891],\n",
       "       [-0.50386012, -1.46397828],\n",
       "       [-1.7530566 , -1.60776793],\n",
       "       [-1.80711634, -0.67298092],\n",
       "       [-1.66844939, -0.56772884],\n",
       "       [-0.40699083, -1.91758609],\n",
       "       [-1.83071355, -0.08140058],\n",
       "       [-0.84235598, -0.02727794],\n",
       "       [-1.09642084, -1.18140135],\n",
       "       [-0.34665512, -0.35382783],\n",
       "       [-0.17963083, -1.42215599],\n",
       "       [-1.08319082, -1.93430611],\n",
       "       [-0.08912585, -1.77991982],\n",
       "       [-1.71183955, -0.84334798],\n",
       "       [-1.86683373, -1.86991032],\n",
       "       [-1.12093277, -1.49714898],\n",
       "       [-0.99217238, -0.40594287],\n",
       "       [-0.6178786 , -1.33055282],\n",
       "       [-0.03548527, -0.50663104],\n",
       "       [-1.7956399 , -1.92442598],\n",
       "       [-0.59617821, -0.49272719],\n",
       "       [-1.27543111, -1.35848575],\n",
       "       [-1.85847377, -0.00700007],\n",
       "       [-1.03976417, -0.8622615 ],\n",
       "       [-0.1694457 , -1.79068244],\n",
       "       [-0.04128646, -1.77656298],\n",
       "       [-1.49918133, -0.78309352],\n",
       "       [-0.93423584, -0.03341075],\n",
       "       [-1.13380075, -1.74127951],\n",
       "       [-1.8401877 , -1.53935194],\n",
       "       [-0.0880483 , -0.66029815],\n",
       "       [-0.38215112, -1.97750801],\n",
       "       [-0.56417701, -0.08026134],\n",
       "       [-0.72504229, -1.06653484],\n",
       "       [-0.73085262, -0.48490944],\n",
       "       [-0.52201571, -0.46928613],\n",
       "       [-1.27471333, -1.29152345],\n",
       "       [-1.23444491, -1.76569415],\n",
       "       [-0.26252871, -1.17234846],\n",
       "       [-1.70692399, -0.13667229],\n",
       "       [-1.58416095, -0.10264311],\n",
       "       [-1.85398694, -1.49888861],\n",
       "       [-0.15517351, -1.78991789],\n",
       "       [-0.05332077, -1.42176507],\n",
       "       [ 1.19160207,  2.90383357],\n",
       "       [ 2.23767146,  1.65984309],\n",
       "       [ 1.17669039,  1.91861107],\n",
       "       [ 1.18791434,  1.19301134],\n",
       "       [ 1.8324374 ,  1.63387135],\n",
       "       [ 2.2467601 ,  1.53539002],\n",
       "       [ 2.18357249,  1.39610066],\n",
       "       [ 1.94440781,  1.49096278],\n",
       "       [ 1.34557443,  1.58972495],\n",
       "       [ 2.26498905,  2.35106235],\n",
       "       [ 2.55925227,  2.26267232],\n",
       "       [ 2.34063727,  2.43736226],\n",
       "       [ 2.95118083,  1.10906563],\n",
       "       [ 1.92757822,  2.62101401],\n",
       "       [ 2.82352417,  2.45943706],\n",
       "       [ 1.20860284,  1.0032936 ],\n",
       "       [ 1.69163121,  2.01283131],\n",
       "       [ 1.93176419,  1.95767562],\n",
       "       [ 1.24164235,  2.37526254],\n",
       "       [ 1.93122384,  2.93453329],\n",
       "       [ 1.3753164 ,  2.61922954],\n",
       "       [ 1.97683732,  2.83507324],\n",
       "       [ 2.78746557,  2.54763671],\n",
       "       [ 2.61329211,  2.5664831 ],\n",
       "       [ 2.96618276,  1.38550806],\n",
       "       [ 2.89027551,  2.74068087],\n",
       "       [ 1.9491386 ,  2.31206459],\n",
       "       [ 1.93461455,  1.73784905],\n",
       "       [ 2.69647211,  2.81064014],\n",
       "       [ 2.20603918,  2.79554728],\n",
       "       [ 2.44516146,  2.76645012],\n",
       "       [ 2.16454252,  1.16792723],\n",
       "       [ 1.91009954,  1.67225974],\n",
       "       [ 2.37087283,  2.18454153],\n",
       "       [ 2.23394004,  2.48243855],\n",
       "       [ 2.48075825,  2.50696189],\n",
       "       [ 1.84977797,  2.11613174],\n",
       "       [ 2.28657422,  2.91327084],\n",
       "       [ 1.6696949 ,  2.96910523],\n",
       "       [ 2.8890679 ,  2.04742155],\n",
       "       [ 1.48728281,  1.46055293],\n",
       "       [ 1.50488259,  2.16116759],\n",
       "       [ 2.07382908,  2.9849122 ],\n",
       "       [ 2.01582779,  2.57973616],\n",
       "       [ 2.88311193,  2.79818502],\n",
       "       [ 1.45290872,  1.16280667],\n",
       "       [ 2.49475084,  2.71330067],\n",
       "       [ 2.37468925,  2.90200784],\n",
       "       [ 1.10200686,  2.56476713],\n",
       "       [ 1.6873685 ,  1.03456293]])"
      ]
     },
     "execution_count": 42,
     "metadata": {},
     "output_type": "execute_result"
    }
   ],
   "source": [
    "\n",
    "X1 = 1 + 2 * np.random.rand(50,2)\n",
    "\n",
    "X[50:100, :] = X1\n",
    "\n",
    "X"
   ]
  },
  {
   "cell_type": "code",
   "execution_count": 51,
   "metadata": {},
   "outputs": [
    {
     "data": {
      "image/png": "[encoded data removed]",
      "text/plain": [
       "<Figure size 432x288 with 1 Axes>"
      ]
     },
     "metadata": {
      "needs_background": "light"
     },
     "output_type": "display_data"
    }
   ],
   "source": [
    "\n",
    "\n",
    "plt.scatter(X[ : , 0], X[ :, 1], s = 50, c = 'b', marker='o')\n",
    "plt.show()"
   ]
  },
  {
   "cell_type": "code",
   "execution_count": 56,
   "metadata": {},
   "outputs": [
    {
     "name": "stdout",
     "output_type": "stream",
     "text": [
      "Initialization complete\n",
      "Iteration 0, inertia 42.514051985803434\n",
      "Iteration 1, inertia 33.21426715061711\n",
      "Iteration 2, inertia 32.667065050613466\n",
      "Iteration 3, inertia 32.62281218404003\n",
      "Converged at iteration 3: strict convergence.\n",
      "Initialization complete\n",
      "Iteration 0, inertia 41.21699204088453\n",
      "Iteration 1, inertia 30.945243763712114\n",
      "Iteration 2, inertia 30.16450953849424\n",
      "Converged at iteration 2: strict convergence.\n",
      "Initialization complete\n",
      "Iteration 0, inertia 44.687480318299855\n",
      "Iteration 1, inertia 36.860372302000286\n",
      "Iteration 2, inertia 34.79320669513181\n",
      "Iteration 3, inertia 34.0701466619789\n",
      "Iteration 4, inertia 33.94607943953268\n",
      "Iteration 5, inertia 33.89777156354075\n",
      "Converged at iteration 5: strict convergence.\n",
      "Initialization complete\n",
      "Iteration 0, inertia 44.78681789870142\n",
      "Iteration 1, inertia 31.819983426428895\n",
      "Iteration 2, inertia 29.59772501443444\n",
      "Iteration 3, inertia 29.492952700434603\n",
      "Converged at iteration 3: strict convergence.\n",
      "Initialization complete\n",
      "Iteration 0, inertia 44.620265520125486\n",
      "Iteration 1, inertia 31.647415225989768\n",
      "Iteration 2, inertia 31.157109116091014\n",
      "Iteration 3, inertia 31.098239096799702\n",
      "Iteration 4, inertia 31.050880908819195\n",
      "Converged at iteration 4: strict convergence.\n",
      "Initialization complete\n",
      "Iteration 0, inertia 44.674320108507516\n",
      "Iteration 1, inertia 32.393055535846734\n",
      "Iteration 2, inertia 31.844627494120623\n",
      "Iteration 3, inertia 31.23335302395816\n",
      "Iteration 4, inertia 31.153579974285808\n",
      "Converged at iteration 4: strict convergence.\n",
      "Initialization complete\n",
      "Iteration 0, inertia 47.84491546123025\n",
      "Iteration 1, inertia 40.63013209513903\n",
      "Iteration 2, inertia 40.14047979070739\n",
      "Iteration 3, inertia 40.01735107021939\n",
      "Iteration 4, inertia 39.87162817204688\n",
      "Iteration 5, inertia 39.799617595933384\n",
      "Converged at iteration 5: strict convergence.\n",
      "Initialization complete\n",
      "Iteration 0, inertia 44.6497317156545\n",
      "Iteration 1, inertia 30.905985116293\n",
      "Iteration 2, inertia 30.3018186199295\n",
      "Iteration 3, inertia 30.22701606696282\n",
      "Converged at iteration 3: strict convergence.\n",
      "Initialization complete\n",
      "Iteration 0, inertia 55.80065850631197\n",
      "Iteration 1, inertia 47.62607443032099\n",
      "Iteration 2, inertia 47.19436179789864\n",
      "Converged at iteration 2: strict convergence.\n",
      "Initialization complete\n",
      "Iteration 0, inertia 51.93217183578525\n",
      "Iteration 1, inertia 36.94358240033446\n",
      "Iteration 2, inertia 35.62047815107676\n",
      "Iteration 3, inertia 35.084445485958966\n",
      "Iteration 4, inertia 34.813006559643995\n",
      "Iteration 5, inertia 34.516761010653745\n",
      "Iteration 6, inertia 33.922071425591064\n",
      "Iteration 7, inertia 33.85441624305261\n",
      "Converged at iteration 7: strict convergence.\n"
     ]
    },
    {
     "data": {
      "text/plain": [
       "KMeans(n_clusters=5, verbose=11)"
      ]
     },
     "execution_count": 56,
     "metadata": {},
     "output_type": "execute_result"
    }
   ],
   "source": [
    "from sklearn.cluster import KMeans\n",
    "\n",
    "Kmean = KMeans(n_clusters=5, max_iter=300, verbose=11, n_init=10)\n",
    "\n",
    "Kmean.fit(X)\n"
   ]
  },
  {
   "cell_type": "code",
   "execution_count": null,
   "metadata": {},
   "outputs": [],
   "source": [
    "#MiniBatchKMeans converges faster than KMeans, but the quality of the results is reduced. \n",
    "#In practice this difference in quality can be quite small, as shown in the example and cited reference.\n",
    "\n",
    "\n",
    "from sklearn.cluster import MiniBatchKMeans"
   ]
  },
  {
   "cell_type": "code",
   "execution_count": 45,
   "metadata": {},
   "outputs": [
    {
     "data": {
      "text/plain": [
       "array([[-0.939361  , -1.06412815],\n",
       "       [ 2.05982878,  2.16769558]])"
      ]
     },
     "execution_count": 45,
     "metadata": {},
     "output_type": "execute_result"
    }
   ],
   "source": [
    "Kmean.cluster_centers_\n"
   ]
  },
  {
   "cell_type": "code",
   "execution_count": 46,
   "metadata": {},
   "outputs": [
    {
     "data": {
      "image/png": "[encoded data removed]",
      "text/plain": [
       "<Figure size 432x288 with 1 Axes>"
      ]
     },
     "metadata": {
      "needs_background": "light"
     },
     "output_type": "display_data"
    }
   ],
   "source": [
    "plt.scatter(X[ : , 0], X[ : , 1], s =50, c='b')\n",
    "\n",
    "plt.scatter(-0.94665068, -0.97138368, s=200, c='g', marker='s')\n",
    "\n",
    "plt.scatter(2.01559419, 2.02597093, s=200, c='r', marker='s')\n",
    "\n",
    "plt.show()"
   ]
  },
  {
   "cell_type": "markdown",
   "metadata": {},
   "source": [
    "# IRIS DATASET"
   ]
  },
  {
   "cell_type": "code",
   "execution_count": 10,
   "metadata": {},
   "outputs": [
    {
     "data": {
      "text/html": [
       "<div>\n",
       "<style scoped>\n",
       "    .dataframe tbody tr th:only-of-type {\n",
       "        vertical-align: middle;\n",
       "    }\n",
       "\n",
       "    .dataframe tbody tr th {\n",
       "        vertical-align: top;\n",
       "    }\n",
       "\n",
       "    .dataframe thead th {\n",
       "        text-align: right;\n",
       "    }\n",
       "</style>\n",
       "<table border=\"1\" class=\"dataframe\">\n",
       "  <thead>\n",
       "    <tr style=\"text-align: right;\">\n",
       "      <th></th>\n",
       "      <th>sepal length (cm)</th>\n",
       "      <th>sepal width (cm)</th>\n",
       "      <th>petal length (cm)</th>\n",
       "      <th>petal width (cm)</th>\n",
       "    </tr>\n",
       "  </thead>\n",
       "  <tbody>\n",
       "    <tr>\n",
       "      <th>0</th>\n",
       "      <td>5.1</td>\n",
       "      <td>3.5</td>\n",
       "      <td>1.4</td>\n",
       "      <td>0.2</td>\n",
       "    </tr>\n",
       "    <tr>\n",
       "      <th>1</th>\n",
       "      <td>4.9</td>\n",
       "      <td>3.0</td>\n",
       "      <td>1.4</td>\n",
       "      <td>0.2</td>\n",
       "    </tr>\n",
       "    <tr>\n",
       "      <th>2</th>\n",
       "      <td>4.7</td>\n",
       "      <td>3.2</td>\n",
       "      <td>1.3</td>\n",
       "      <td>0.2</td>\n",
       "    </tr>\n",
       "    <tr>\n",
       "      <th>3</th>\n",
       "      <td>4.6</td>\n",
       "      <td>3.1</td>\n",
       "      <td>1.5</td>\n",
       "      <td>0.2</td>\n",
       "    </tr>\n",
       "    <tr>\n",
       "      <th>4</th>\n",
       "      <td>5.0</td>\n",
       "      <td>3.6</td>\n",
       "      <td>1.4</td>\n",
       "      <td>0.2</td>\n",
       "    </tr>\n",
       "    <tr>\n",
       "      <th>...</th>\n",
       "      <td>...</td>\n",
       "      <td>...</td>\n",
       "      <td>...</td>\n",
       "      <td>...</td>\n",
       "    </tr>\n",
       "    <tr>\n",
       "      <th>145</th>\n",
       "      <td>6.7</td>\n",
       "      <td>3.0</td>\n",
       "      <td>5.2</td>\n",
       "      <td>2.3</td>\n",
       "    </tr>\n",
       "    <tr>\n",
       "      <th>146</th>\n",
       "      <td>6.3</td>\n",
       "      <td>2.5</td>\n",
       "      <td>5.0</td>\n",
       "      <td>1.9</td>\n",
       "    </tr>\n",
       "    <tr>\n",
       "      <th>147</th>\n",
       "      <td>6.5</td>\n",
       "      <td>3.0</td>\n",
       "      <td>5.2</td>\n",
       "      <td>2.0</td>\n",
       "    </tr>\n",
       "    <tr>\n",
       "      <th>148</th>\n",
       "      <td>6.2</td>\n",
       "      <td>3.4</td>\n",
       "      <td>5.4</td>\n",
       "      <td>2.3</td>\n",
       "    </tr>\n",
       "    <tr>\n",
       "      <th>149</th>\n",
       "      <td>5.9</td>\n",
       "      <td>3.0</td>\n",
       "      <td>5.1</td>\n",
       "      <td>1.8</td>\n",
       "    </tr>\n",
       "  </tbody>\n",
       "</table>\n",
       "<p>150 rows × 4 columns</p>\n",
       "</div>"
      ],
      "text/plain": [
       "     sepal length (cm)  sepal width (cm)  petal length (cm)  petal width (cm)\n",
       "0                  5.1               3.5                1.4               0.2\n",
       "1                  4.9               3.0                1.4               0.2\n",
       "2                  4.7               3.2                1.3               0.2\n",
       "3                  4.6               3.1                1.5               0.2\n",
       "4                  5.0               3.6                1.4               0.2\n",
       "..                 ...               ...                ...               ...\n",
       "145                6.7               3.0                5.2               2.3\n",
       "146                6.3               2.5                5.0               1.9\n",
       "147                6.5               3.0                5.2               2.0\n",
       "148                6.2               3.4                5.4               2.3\n",
       "149                5.9               3.0                5.1               1.8\n",
       "\n",
       "[150 rows x 4 columns]"
      ]
     },
     "execution_count": 10,
     "metadata": {},
     "output_type": "execute_result"
    }
   ],
   "source": [
    "#import the dataset\n",
    "\n",
    "\n",
    "from sklearn import datasets\n",
    "\n",
    "\n",
    "df1 = datasets.load_iris()\n",
    "\n",
    "\n",
    "df=pd.DataFrame(df1.data)\n",
    "\n",
    "\n",
    "df.columns=df1.feature_names\n",
    "\n",
    "df"
   ]
  },
  {
   "cell_type": "code",
   "execution_count": null,
   "metadata": {},
   "outputs": [],
   "source": [
    "x = df.iloc[:, [0,1,2,3]].values\n",
    "x"
   ]
  },
  {
   "cell_type": "code",
   "execution_count": 22,
   "metadata": {},
   "outputs": [],
   "source": [
    "\n",
    "\n",
    "from sklearn.cluster import KMeans\n",
    "\n",
    "kmeans5 = KMeans(n_clusters=5)\n",
    "\n"
   ]
  },
  {
   "cell_type": "code",
   "execution_count": null,
   "metadata": {},
   "outputs": [],
   "source": [
    "\n",
    "#K =5\n",
    "\n",
    "y_kmeans5 = kmeans5.fit_predict(x)\n",
    "\n",
    "print(y_kmeans5)\n"
   ]
  },
  {
   "cell_type": "code",
   "execution_count": 14,
   "metadata": {},
   "outputs": [
    {
     "data": {
      "text/plain": [
       "array([[5.006     , 3.428     , 1.462     , 0.246     ],\n",
       "       [6.52916667, 3.05833333, 5.50833333, 2.1625    ],\n",
       "       [6.20769231, 2.85384615, 4.74615385, 1.56410256],\n",
       "       [5.508     , 2.6       , 3.908     , 1.204     ],\n",
       "       [7.475     , 3.125     , 6.3       , 2.05      ]])"
      ]
     },
     "execution_count": 14,
     "metadata": {},
     "output_type": "execute_result"
    }
   ],
   "source": [
    "\n",
    "kmeans5.cluster_centers_"
   ]
  },
  {
   "cell_type": "code",
   "execution_count": 17,
   "metadata": {},
   "outputs": [
    {
     "data": {
      "text/plain": [
       "<matplotlib.collections.PathCollection at 0x21dd6333fc8>"
      ]
     },
     "execution_count": 17,
     "metadata": {},
     "output_type": "execute_result"
    },
    {
     "data": {
      "image/png": "[encoded data removed]",
      "text/plain": [
       "<Figure size 432x288 with 1 Axes>"
      ]
     },
     "metadata": {
      "needs_background": "light"
     },
     "output_type": "display_data"
    }
   ],
   "source": [
    "plt.scatter(x[:,0],x[:,1],c=y_kmeans5,cmap=\"rainbow\")"
   ]
  },
  {
   "cell_type": "markdown",
   "metadata": {},
   "source": [
    "# ELBOW METHOD\n",
    "\n",
    "## To find optimal number of K"
   ]
  },
  {
   "cell_type": "code",
   "execution_count": 16,
   "metadata": {},
   "outputs": [
    {
     "data": {
      "image/png": "[encoded data removed]",
      "text/plain": [
       "<Figure size 432x288 with 1 Axes>"
      ]
     },
     "metadata": {
      "needs_background": "light"
     },
     "output_type": "display_data"
    }
   ],
   "source": [
    "\n",
    "\n",
    "    \n",
    "import matplotlib.pyplot as plt\n",
    "\n",
    "plt.plot(range(1, 11), Error)\n",
    "\n",
    "plt.title('Elbow method')\n",
    "plt.xlabel('No of clusters')\n",
    "plt.ylabel('Error')\n",
    "plt.show()\n"
   ]
  },
  {
   "cell_type": "code",
   "execution_count": 47,
   "metadata": {},
   "outputs": [
    {
     "data": {
      "text/plain": [
       "[681.3705999999996,\n",
       " 152.34795176035797,\n",
       " 78.851441426146,\n",
       " 57.22847321428572,\n",
       " 46.44618205128204,\n",
       " 39.03998724608725,\n",
       " 34.42019178628389,\n",
       " 30.112388528138535,\n",
       " 28.352471861471866,\n",
       " 26.366027172674784]"
      ]
     },
     "execution_count": 47,
     "metadata": {},
     "output_type": "execute_result"
    }
   ],
   "source": [
    "Error =[]\n",
    "\n",
    "\n",
    "for i in range(1, 11):\n",
    "    kmeans = KMeans(n_clusters = i).fit(x)\n",
    "    kmeans.fit(x)\n",
    "    Error.append(kmeans.inertia_)\n",
    "\n",
    "Error"
   ]
  },
  {
   "cell_type": "code",
   "execution_count": 50,
   "metadata": {},
   "outputs": [
    {
     "name": "stdout",
     "output_type": "stream",
     "text": [
      "1\n",
      "2\n",
      "3\n",
      "4\n",
      "5\n",
      "6\n",
      "7\n",
      "8\n",
      "9\n",
      "10\n"
     ]
    }
   ],
   "source": [
    "for i in range(1, 11):\n",
    "    print(i)\n",
    "    \n",
    "    "
   ]
  },
  {
   "cell_type": "markdown",
   "metadata": {},
   "source": [
    "# Visualize the CLUSTERS"
   ]
  },
  {
   "cell_type": "code",
   "execution_count": 19,
   "metadata": {},
   "outputs": [
    {
     "name": "stdout",
     "output_type": "stream",
     "text": [
      "[1 1 1 1 1 1 1 1 1 1 1 1 1 1 1 1 1 1 1 1 1 1 1 1 1 1 1 1 1 1 1 1 1 1 1 1 1\n",
      " 1 1 1 1 1 1 1 1 1 1 1 1 1 2 2 0 2 2 2 2 2 2 2 2 2 2 2 2 2 2 2 2 2 2 2 2 2\n",
      " 2 2 2 0 2 2 2 2 2 2 2 2 2 2 2 2 2 2 2 2 2 2 2 2 2 2 0 2 0 0 0 0 2 0 0 0 0\n",
      " 0 0 2 2 0 0 0 0 2 0 2 0 2 0 0 2 2 0 0 0 0 0 2 0 0 0 0 2 0 0 0 2 0 0 0 2 0\n",
      " 0 2]\n"
     ]
    }
   ],
   "source": [
    "\n",
    "kmeans3 = KMeans(n_clusters=3)\n",
    "\n",
    "y_kmeans3 = kmeans3.fit_predict(x)\n",
    "\n",
    "print(y_kmeans3)\n"
   ]
  },
  {
   "cell_type": "code",
   "execution_count": 21,
   "metadata": {},
   "outputs": [
    {
     "data": {
      "text/plain": [
       "array([[6.85      , 3.07368421, 5.74210526, 2.07105263],\n",
       "       [5.006     , 3.428     , 1.462     , 0.246     ],\n",
       "       [5.9016129 , 2.7483871 , 4.39354839, 1.43387097]])"
      ]
     },
     "execution_count": 21,
     "metadata": {},
     "output_type": "execute_result"
    }
   ],
   "source": [
    "\n",
    "kmeans3.cluster_centers_"
   ]
  },
  {
   "cell_type": "code",
   "execution_count": 20,
   "metadata": {},
   "outputs": [
    {
     "data": {
      "text/plain": [
       "<matplotlib.collections.PathCollection at 0x21dd63a75c8>"
      ]
     },
     "execution_count": 20,
     "metadata": {},
     "output_type": "execute_result"
    },
    {
     "data": {
      "image/png": "[encoded data removed]",
      "text/plain": [
       "<Figure size 432x288 with 1 Axes>"
      ]
     },
     "metadata": {
      "needs_background": "light"
     },
     "output_type": "display_data"
    }
   ],
   "source": [
    "\n",
    "\n",
    "plt.scatter(x[:,0],x[:,1],c=y_kmeans3,cmap=\"rainbow\")\n",
    "\n"
   ]
  }
 ],
 "metadata": {
  "kernelspec": {
   "display_name": "Python 3",
   "language": "python",
   "name": "python3"
  },
  "language_info": {
   "codemirror_mode": {
    "name": "ipython",
    "version": 3
   },
   "file_extension": ".py",
   "mimetype": "text/x-python",
   "name": "python",
   "nbconvert_exporter": "python",
   "pygments_lexer": "ipython3",
   "version": "3.7.6"
  }
 },
 "nbformat": 4,
 "nbformat_minor": 4
}
