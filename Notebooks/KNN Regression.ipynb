{
 "cells": [
  {
   "cell_type": "code",
   "execution_count": 54,
   "metadata": {},
   "outputs": [],
   "source": [
    "import pandas as pd\n",
    "import numpy as np\n"
   ]
  },
  {
   "cell_type": "code",
   "execution_count": 81,
   "metadata": {},
   "outputs": [],
   "source": [
    "from sklearn.datasets import load_boston\n",
    "\n",
    "dt= load_boston()\n",
    "X=dt.data\n",
    "Y=dt.target\n"
   ]
  },
  {
   "cell_type": "code",
   "execution_count": 56,
   "metadata": {},
   "outputs": [
    {
     "data": {
      "text/html": [
       "<div>\n",
       "<style scoped>\n",
       "    .dataframe tbody tr th:only-of-type {\n",
       "        vertical-align: middle;\n",
       "    }\n",
       "\n",
       "    .dataframe tbody tr th {\n",
       "        vertical-align: top;\n",
       "    }\n",
       "\n",
       "    .dataframe thead th {\n",
       "        text-align: right;\n",
       "    }\n",
       "</style>\n",
       "<table border=\"1\" class=\"dataframe\">\n",
       "  <thead>\n",
       "    <tr style=\"text-align: right;\">\n",
       "      <th></th>\n",
       "      <th>CRIM</th>\n",
       "      <th>ZN</th>\n",
       "      <th>INDUS</th>\n",
       "      <th>CHAS</th>\n",
       "      <th>NOX</th>\n",
       "      <th>RM</th>\n",
       "      <th>AGE</th>\n",
       "      <th>DIS</th>\n",
       "      <th>RAD</th>\n",
       "      <th>TAX</th>\n",
       "      <th>PTRATIO</th>\n",
       "      <th>B</th>\n",
       "      <th>LSTAT</th>\n",
       "    </tr>\n",
       "  </thead>\n",
       "  <tbody>\n",
       "    <tr>\n",
       "      <th>0</th>\n",
       "      <td>0.00632</td>\n",
       "      <td>18.0</td>\n",
       "      <td>2.31</td>\n",
       "      <td>0.0</td>\n",
       "      <td>0.538</td>\n",
       "      <td>6.575</td>\n",
       "      <td>65.2</td>\n",
       "      <td>4.0900</td>\n",
       "      <td>1.0</td>\n",
       "      <td>296.0</td>\n",
       "      <td>15.3</td>\n",
       "      <td>396.90</td>\n",
       "      <td>4.98</td>\n",
       "    </tr>\n",
       "    <tr>\n",
       "      <th>1</th>\n",
       "      <td>0.02731</td>\n",
       "      <td>0.0</td>\n",
       "      <td>7.07</td>\n",
       "      <td>0.0</td>\n",
       "      <td>0.469</td>\n",
       "      <td>6.421</td>\n",
       "      <td>78.9</td>\n",
       "      <td>4.9671</td>\n",
       "      <td>2.0</td>\n",
       "      <td>242.0</td>\n",
       "      <td>17.8</td>\n",
       "      <td>396.90</td>\n",
       "      <td>9.14</td>\n",
       "    </tr>\n",
       "    <tr>\n",
       "      <th>2</th>\n",
       "      <td>0.02729</td>\n",
       "      <td>0.0</td>\n",
       "      <td>7.07</td>\n",
       "      <td>0.0</td>\n",
       "      <td>0.469</td>\n",
       "      <td>7.185</td>\n",
       "      <td>61.1</td>\n",
       "      <td>4.9671</td>\n",
       "      <td>2.0</td>\n",
       "      <td>242.0</td>\n",
       "      <td>17.8</td>\n",
       "      <td>392.83</td>\n",
       "      <td>4.03</td>\n",
       "    </tr>\n",
       "    <tr>\n",
       "      <th>3</th>\n",
       "      <td>0.03237</td>\n",
       "      <td>0.0</td>\n",
       "      <td>2.18</td>\n",
       "      <td>0.0</td>\n",
       "      <td>0.458</td>\n",
       "      <td>6.998</td>\n",
       "      <td>45.8</td>\n",
       "      <td>6.0622</td>\n",
       "      <td>3.0</td>\n",
       "      <td>222.0</td>\n",
       "      <td>18.7</td>\n",
       "      <td>394.63</td>\n",
       "      <td>2.94</td>\n",
       "    </tr>\n",
       "    <tr>\n",
       "      <th>4</th>\n",
       "      <td>0.06905</td>\n",
       "      <td>0.0</td>\n",
       "      <td>2.18</td>\n",
       "      <td>0.0</td>\n",
       "      <td>0.458</td>\n",
       "      <td>7.147</td>\n",
       "      <td>54.2</td>\n",
       "      <td>6.0622</td>\n",
       "      <td>3.0</td>\n",
       "      <td>222.0</td>\n",
       "      <td>18.7</td>\n",
       "      <td>396.90</td>\n",
       "      <td>5.33</td>\n",
       "    </tr>\n",
       "    <tr>\n",
       "      <th>...</th>\n",
       "      <td>...</td>\n",
       "      <td>...</td>\n",
       "      <td>...</td>\n",
       "      <td>...</td>\n",
       "      <td>...</td>\n",
       "      <td>...</td>\n",
       "      <td>...</td>\n",
       "      <td>...</td>\n",
       "      <td>...</td>\n",
       "      <td>...</td>\n",
       "      <td>...</td>\n",
       "      <td>...</td>\n",
       "      <td>...</td>\n",
       "    </tr>\n",
       "    <tr>\n",
       "      <th>501</th>\n",
       "      <td>0.06263</td>\n",
       "      <td>0.0</td>\n",
       "      <td>11.93</td>\n",
       "      <td>0.0</td>\n",
       "      <td>0.573</td>\n",
       "      <td>6.593</td>\n",
       "      <td>69.1</td>\n",
       "      <td>2.4786</td>\n",
       "      <td>1.0</td>\n",
       "      <td>273.0</td>\n",
       "      <td>21.0</td>\n",
       "      <td>391.99</td>\n",
       "      <td>9.67</td>\n",
       "    </tr>\n",
       "    <tr>\n",
       "      <th>502</th>\n",
       "      <td>0.04527</td>\n",
       "      <td>0.0</td>\n",
       "      <td>11.93</td>\n",
       "      <td>0.0</td>\n",
       "      <td>0.573</td>\n",
       "      <td>6.120</td>\n",
       "      <td>76.7</td>\n",
       "      <td>2.2875</td>\n",
       "      <td>1.0</td>\n",
       "      <td>273.0</td>\n",
       "      <td>21.0</td>\n",
       "      <td>396.90</td>\n",
       "      <td>9.08</td>\n",
       "    </tr>\n",
       "    <tr>\n",
       "      <th>503</th>\n",
       "      <td>0.06076</td>\n",
       "      <td>0.0</td>\n",
       "      <td>11.93</td>\n",
       "      <td>0.0</td>\n",
       "      <td>0.573</td>\n",
       "      <td>6.976</td>\n",
       "      <td>91.0</td>\n",
       "      <td>2.1675</td>\n",
       "      <td>1.0</td>\n",
       "      <td>273.0</td>\n",
       "      <td>21.0</td>\n",
       "      <td>396.90</td>\n",
       "      <td>5.64</td>\n",
       "    </tr>\n",
       "    <tr>\n",
       "      <th>504</th>\n",
       "      <td>0.10959</td>\n",
       "      <td>0.0</td>\n",
       "      <td>11.93</td>\n",
       "      <td>0.0</td>\n",
       "      <td>0.573</td>\n",
       "      <td>6.794</td>\n",
       "      <td>89.3</td>\n",
       "      <td>2.3889</td>\n",
       "      <td>1.0</td>\n",
       "      <td>273.0</td>\n",
       "      <td>21.0</td>\n",
       "      <td>393.45</td>\n",
       "      <td>6.48</td>\n",
       "    </tr>\n",
       "    <tr>\n",
       "      <th>505</th>\n",
       "      <td>0.04741</td>\n",
       "      <td>0.0</td>\n",
       "      <td>11.93</td>\n",
       "      <td>0.0</td>\n",
       "      <td>0.573</td>\n",
       "      <td>6.030</td>\n",
       "      <td>80.8</td>\n",
       "      <td>2.5050</td>\n",
       "      <td>1.0</td>\n",
       "      <td>273.0</td>\n",
       "      <td>21.0</td>\n",
       "      <td>396.90</td>\n",
       "      <td>7.88</td>\n",
       "    </tr>\n",
       "  </tbody>\n",
       "</table>\n",
       "<p>506 rows × 13 columns</p>\n",
       "</div>"
      ],
      "text/plain": [
       "        CRIM    ZN  INDUS  CHAS    NOX     RM   AGE     DIS  RAD    TAX  \\\n",
       "0    0.00632  18.0   2.31   0.0  0.538  6.575  65.2  4.0900  1.0  296.0   \n",
       "1    0.02731   0.0   7.07   0.0  0.469  6.421  78.9  4.9671  2.0  242.0   \n",
       "2    0.02729   0.0   7.07   0.0  0.469  7.185  61.1  4.9671  2.0  242.0   \n",
       "3    0.03237   0.0   2.18   0.0  0.458  6.998  45.8  6.0622  3.0  222.0   \n",
       "4    0.06905   0.0   2.18   0.0  0.458  7.147  54.2  6.0622  3.0  222.0   \n",
       "..       ...   ...    ...   ...    ...    ...   ...     ...  ...    ...   \n",
       "501  0.06263   0.0  11.93   0.0  0.573  6.593  69.1  2.4786  1.0  273.0   \n",
       "502  0.04527   0.0  11.93   0.0  0.573  6.120  76.7  2.2875  1.0  273.0   \n",
       "503  0.06076   0.0  11.93   0.0  0.573  6.976  91.0  2.1675  1.0  273.0   \n",
       "504  0.10959   0.0  11.93   0.0  0.573  6.794  89.3  2.3889  1.0  273.0   \n",
       "505  0.04741   0.0  11.93   0.0  0.573  6.030  80.8  2.5050  1.0  273.0   \n",
       "\n",
       "     PTRATIO       B  LSTAT  \n",
       "0       15.3  396.90   4.98  \n",
       "1       17.8  396.90   9.14  \n",
       "2       17.8  392.83   4.03  \n",
       "3       18.7  394.63   2.94  \n",
       "4       18.7  396.90   5.33  \n",
       "..       ...     ...    ...  \n",
       "501     21.0  391.99   9.67  \n",
       "502     21.0  396.90   9.08  \n",
       "503     21.0  396.90   5.64  \n",
       "504     21.0  393.45   6.48  \n",
       "505     21.0  396.90   7.88  \n",
       "\n",
       "[506 rows x 13 columns]"
      ]
     },
     "execution_count": 56,
     "metadata": {},
     "output_type": "execute_result"
    }
   ],
   "source": [
    "df_x=pd.DataFrame(X,columns=dt.feature_names)\n",
    "df_x"
   ]
  },
  {
   "cell_type": "code",
   "execution_count": 57,
   "metadata": {},
   "outputs": [
    {
     "data": {
      "text/html": [
       "<div>\n",
       "<style scoped>\n",
       "    .dataframe tbody tr th:only-of-type {\n",
       "        vertical-align: middle;\n",
       "    }\n",
       "\n",
       "    .dataframe tbody tr th {\n",
       "        vertical-align: top;\n",
       "    }\n",
       "\n",
       "    .dataframe thead th {\n",
       "        text-align: right;\n",
       "    }\n",
       "</style>\n",
       "<table border=\"1\" class=\"dataframe\">\n",
       "  <thead>\n",
       "    <tr style=\"text-align: right;\">\n",
       "      <th></th>\n",
       "      <th>target</th>\n",
       "    </tr>\n",
       "  </thead>\n",
       "  <tbody>\n",
       "    <tr>\n",
       "      <th>0</th>\n",
       "      <td>24.0</td>\n",
       "    </tr>\n",
       "    <tr>\n",
       "      <th>1</th>\n",
       "      <td>21.6</td>\n",
       "    </tr>\n",
       "    <tr>\n",
       "      <th>2</th>\n",
       "      <td>34.7</td>\n",
       "    </tr>\n",
       "    <tr>\n",
       "      <th>3</th>\n",
       "      <td>33.4</td>\n",
       "    </tr>\n",
       "    <tr>\n",
       "      <th>4</th>\n",
       "      <td>36.2</td>\n",
       "    </tr>\n",
       "    <tr>\n",
       "      <th>...</th>\n",
       "      <td>...</td>\n",
       "    </tr>\n",
       "    <tr>\n",
       "      <th>501</th>\n",
       "      <td>22.4</td>\n",
       "    </tr>\n",
       "    <tr>\n",
       "      <th>502</th>\n",
       "      <td>20.6</td>\n",
       "    </tr>\n",
       "    <tr>\n",
       "      <th>503</th>\n",
       "      <td>23.9</td>\n",
       "    </tr>\n",
       "    <tr>\n",
       "      <th>504</th>\n",
       "      <td>22.0</td>\n",
       "    </tr>\n",
       "    <tr>\n",
       "      <th>505</th>\n",
       "      <td>11.9</td>\n",
       "    </tr>\n",
       "  </tbody>\n",
       "</table>\n",
       "<p>506 rows × 1 columns</p>\n",
       "</div>"
      ],
      "text/plain": [
       "     target\n",
       "0      24.0\n",
       "1      21.6\n",
       "2      34.7\n",
       "3      33.4\n",
       "4      36.2\n",
       "..      ...\n",
       "501    22.4\n",
       "502    20.6\n",
       "503    23.9\n",
       "504    22.0\n",
       "505    11.9\n",
       "\n",
       "[506 rows x 1 columns]"
      ]
     },
     "execution_count": 57,
     "metadata": {},
     "output_type": "execute_result"
    }
   ],
   "source": [
    "df_y=pd.DataFrame(Y,columns=[\"target\"])\n",
    "df_y"
   ]
  },
  {
   "cell_type": "code",
   "execution_count": 58,
   "metadata": {},
   "outputs": [],
   "source": [
    "from sklearn.model_selection import train_test_split\n",
    "\n",
    "# Split dataset into training set and test set\n",
    "X_train, X_test, y_train, y_test = train_test_split(df_x,df_y, test_size=0.2) # "
   ]
  },
  {
   "cell_type": "markdown",
   "metadata": {},
   "source": [
    "# Model train and test"
   ]
  },
  {
   "cell_type": "code",
   "execution_count": 90,
   "metadata": {},
   "outputs": [
    {
     "data": {
      "text/plain": [
       "KNeighborsRegressor(algorithm='auto', leaf_size=30, metric='minkowski',\n",
       "                    metric_params=None, n_jobs=-1, n_neighbors=7, p=2,\n",
       "                    weights='uniform')"
      ]
     },
     "execution_count": 90,
     "metadata": {},
     "output_type": "execute_result"
    }
   ],
   "source": [
    "#Import knearest neighbors Classifier model\n",
    "\n",
    "from sklearn.neighbors import KNeighborsRegressor\n",
    "\n",
    "#Create KNN Classifier\n",
    "knn = KNeighborsRegressor(algorithm='auto', leaf_size=30, metric='minkowski',\n",
    "                    metric_params=None, n_jobs=-1, n_neighbors=7, p=2,\n",
    "                    weights='uniform')\n",
    "\n",
    "#Train the model using the training sets\n",
    "knn.fit(X_train, y_train)\n",
    "\n",
    "\n",
    "#Predict the response for test dataset\n",
    "\n",
    "knn"
   ]
  },
  {
   "cell_type": "code",
   "execution_count": 86,
   "metadata": {},
   "outputs": [
    {
     "data": {
      "text/plain": [
       "KNeighborsRegressor(algorithm='auto', leaf_size=30, metric='minkowski',\n",
       "                    metric_params=None, n_jobs=None, n_neighbors=7, p=2,\n",
       "                    weights='distance')"
      ]
     },
     "execution_count": 86,
     "metadata": {},
     "output_type": "execute_result"
    }
   ],
   "source": [
    "#Import knearest neighbors Classifier model\n",
    "\n",
    "from sklearn.neighbors import KNeighborsRegressor\n",
    "\n",
    "#Create KNN Classifier\n",
    "knn2 = KNeighborsRegressor(n_neighbors=7,weights='distance')\n",
    "\n",
    "\n",
    "\n",
    "#Train the model using the training sets\n",
    "knn2.fit(X_train, y_train)\n",
    "\n",
    "\n",
    "#Predict the response for test dataset\n",
    "\n",
    "knn2\n",
    "\n",
    "#improve performance---"
   ]
  },
  {
   "cell_type": "code",
   "execution_count": 87,
   "metadata": {},
   "outputs": [
    {
     "data": {
      "text/plain": [
       "array([[24.50528695],\n",
       "       [22.15036781],\n",
       "       [16.71746687],\n",
       "       [24.68612925],\n",
       "       [20.62112229],\n",
       "       [22.62735727],\n",
       "       [22.20663651],\n",
       "       [24.40707656],\n",
       "       [26.25678137],\n",
       "       [22.48208423],\n",
       "       [25.53200883],\n",
       "       [22.93465098],\n",
       "       [21.59180259],\n",
       "       [21.46810515],\n",
       "       [33.38636292],\n",
       "       [16.79385771],\n",
       "       [13.92669779],\n",
       "       [15.23361561],\n",
       "       [11.54607887],\n",
       "       [22.655738  ],\n",
       "       [33.15941131],\n",
       "       [21.20477869],\n",
       "       [24.82601114],\n",
       "       [23.97754371],\n",
       "       [28.83956914],\n",
       "       [23.5958607 ],\n",
       "       [26.27675182],\n",
       "       [37.27438855],\n",
       "       [18.53893465],\n",
       "       [22.0594525 ],\n",
       "       [20.63362131],\n",
       "       [20.56585329],\n",
       "       [35.64832389],\n",
       "       [25.46537758],\n",
       "       [25.71575967],\n",
       "       [21.20738541],\n",
       "       [11.75458761],\n",
       "       [21.44921701],\n",
       "       [32.5428878 ],\n",
       "       [21.80201188],\n",
       "       [36.82710055],\n",
       "       [11.07701459],\n",
       "       [22.75527196],\n",
       "       [24.86206702],\n",
       "       [39.99673974],\n",
       "       [25.67673964],\n",
       "       [33.17142814],\n",
       "       [11.97123105],\n",
       "       [30.99312066],\n",
       "       [19.88245633],\n",
       "       [15.84205489],\n",
       "       [22.94686666],\n",
       "       [30.76378932],\n",
       "       [19.87271214],\n",
       "       [21.11252342],\n",
       "       [23.79931571],\n",
       "       [21.43847951],\n",
       "       [20.27204926],\n",
       "       [26.40378103],\n",
       "       [ 9.59741017],\n",
       "       [23.04488153],\n",
       "       [19.36880111],\n",
       "       [20.42495169],\n",
       "       [33.96998464],\n",
       "       [20.60894993],\n",
       "       [37.15880324],\n",
       "       [13.62859398],\n",
       "       [22.9223915 ],\n",
       "       [24.46024606],\n",
       "       [34.11340044],\n",
       "       [14.32917947],\n",
       "       [21.69876018],\n",
       "       [26.75097017],\n",
       "       [24.23726194],\n",
       "       [38.89515661],\n",
       "       [20.57568642],\n",
       "       [30.40549161],\n",
       "       [14.60916998],\n",
       "       [21.71467716],\n",
       "       [33.0491435 ],\n",
       "       [18.23497323],\n",
       "       [32.14194154],\n",
       "       [22.02722621],\n",
       "       [21.32725154],\n",
       "       [26.07066328],\n",
       "       [36.26895056],\n",
       "       [10.29305178],\n",
       "       [29.04195721],\n",
       "       [32.14057853],\n",
       "       [23.71263346],\n",
       "       [11.88993102],\n",
       "       [23.56030194],\n",
       "       [16.30364187],\n",
       "       [25.27005394],\n",
       "       [21.30352751],\n",
       "       [29.64262492],\n",
       "       [29.47640607],\n",
       "       [22.44631213],\n",
       "       [35.50300199],\n",
       "       [11.7061093 ],\n",
       "       [12.31971725],\n",
       "       [37.16275547],\n",
       "       [20.28403545],\n",
       "       [12.2613232 ],\n",
       "       [23.51830544],\n",
       "       [19.90252965],\n",
       "       [44.18272239],\n",
       "       [18.33576713],\n",
       "       [25.06539771],\n",
       "       [23.07762078],\n",
       "       [16.03283526],\n",
       "       [18.21603499],\n",
       "       [22.87479587],\n",
       "       [20.10873135],\n",
       "       [28.20036489],\n",
       "       [29.80337143],\n",
       "       [15.40433447],\n",
       "       [22.0537112 ],\n",
       "       [22.88974408],\n",
       "       [27.66231578],\n",
       "       [20.51537234],\n",
       "       [10.72892033],\n",
       "       [24.81163385],\n",
       "       [32.34510661],\n",
       "       [12.10234673],\n",
       "       [14.37893205],\n",
       "       [30.24423057],\n",
       "       [20.38909557],\n",
       "       [23.41277365],\n",
       "       [16.81156737],\n",
       "       [11.78411055],\n",
       "       [22.44975598],\n",
       "       [24.80792245],\n",
       "       [14.15111471],\n",
       "       [19.6147244 ],\n",
       "       [15.83991603],\n",
       "       [27.04680271],\n",
       "       [24.38026051],\n",
       "       [24.65464451],\n",
       "       [22.61742859],\n",
       "       [15.36733832],\n",
       "       [26.11497254],\n",
       "       [21.69062151],\n",
       "       [12.12030706],\n",
       "       [36.09684336],\n",
       "       [29.42502161],\n",
       "       [29.58982709],\n",
       "       [12.98328902],\n",
       "       [28.50648108],\n",
       "       [13.69767322],\n",
       "       [21.02525183],\n",
       "       [33.16225365]])"
      ]
     },
     "execution_count": 87,
     "metadata": {},
     "output_type": "execute_result"
    }
   ],
   "source": [
    "y_pred1 = knn.predict(X_test)\n",
    "y_pred1\n",
    "\n",
    "\n",
    "y_pred2 = knn2.predict(X_test)\n",
    "y_pred2\n",
    "\n",
    "# ---   y_pred1-y_test==error "
   ]
  },
  {
   "cell_type": "code",
   "execution_count": 88,
   "metadata": {},
   "outputs": [],
   "source": [
    "from sklearn.metrics import mean_squared_error \n",
    "from math import sqrt\n",
    "#RMSE=sqrt(MSE)\n",
    "\n",
    "import matplotlib.pyplot as plt\n",
    "%matplotlib inline\n",
    "actual=y_test"
   ]
  },
  {
   "cell_type": "code",
   "execution_count": 89,
   "metadata": {},
   "outputs": [
    {
     "data": {
      "text/plain": [
       "5.515006380894805"
      ]
     },
     "execution_count": 89,
     "metadata": {},
     "output_type": "execute_result"
    }
   ],
   "source": [
    "error1 = sqrt(mean_squared_error(actual,y_pred1)) #calculate rmse\n",
    "error1\n",
    "\n"
   ]
  },
  {
   "cell_type": "code",
   "execution_count": 64,
   "metadata": {},
   "outputs": [
    {
     "data": {
      "text/plain": [
       "5.091021633523131"
      ]
     },
     "execution_count": 64,
     "metadata": {},
     "output_type": "execute_result"
    }
   ],
   "source": [
    "error2 = sqrt(mean_squared_error(y_test,y_pred2)) #calculate rmse\n",
    "error2"
   ]
  },
  {
   "cell_type": "code",
   "execution_count": 97,
   "metadata": {},
   "outputs": [
    {
     "name": "stdout",
     "output_type": "stream",
     "text": [
      "Accuracy: -0.5737923128020574\n"
     ]
    }
   ],
   "source": [
    "from sklearn import metrics\n",
    "print(\"Accuracy:\",metrics.r2_score(y_test, y_pred))\n"
   ]
  },
  {
   "cell_type": "code",
   "execution_count": 100,
   "metadata": {},
   "outputs": [
    {
     "data": {
      "text/plain": [
       "GridSearchCV(cv=5, error_score=nan,\n",
       "             estimator=KNeighborsRegressor(algorithm='auto', leaf_size=30,\n",
       "                                           metric='minkowski',\n",
       "                                           metric_params=None, n_jobs=None,\n",
       "                                           n_neighbors=5, p=2,\n",
       "                                           weights='uniform'),\n",
       "             iid='deprecated', n_jobs=None,\n",
       "             param_grid={'n_neighbors': [1, 3, 5, 7, 9, 11, 21]},\n",
       "             pre_dispatch='2*n_jobs', refit=True, return_train_score=False,\n",
       "             scoring=None, verbose=0)"
      ]
     },
     "execution_count": 100,
     "metadata": {},
     "output_type": "execute_result"
    }
   ],
   "source": [
    "#GridSearch CV\n",
    "\n",
    "from sklearn.model_selection import GridSearchCV\n",
    "params = {'n_neighbors':[1,3,5,7,9,11,21]}\n",
    "\n",
    "knn1 = KNeighborsRegressor(n_neighbors=1)\n",
    "knn2 = KNeighborsRegressor(n_neighbors=3)\n",
    "knn3 = KNeighborsRegressor(n_neighbors=5)\n",
    "knn4 = KNeighborsRegressor(n_neighbors=7)\n",
    "knn5 = KNeighborsRegressor(n_neighbors=9)\n",
    "knn6 = KNeighborsRegressor(n_neighbors=11)\n",
    "knn7 = KNeighborsRegressor(n_neighbors=21)\n",
    "\n",
    "\n",
    "model = GridSearchCV(knn, params, cv=5)\n",
    "model.fit(X_train,y_train)\n",
    "\n",
    "model\n"
   ]
  },
  {
   "cell_type": "code",
   "execution_count": null,
   "metadata": {},
   "outputs": [],
   "source": [
    "knn = KNeighborsRegressor(n_neighbours=3)\n",
    "\n",
    "KFold(knn, cv=5)"
   ]
  },
  {
   "cell_type": "code",
   "execution_count": 101,
   "metadata": {},
   "outputs": [
    {
     "data": {
      "text/plain": [
       "{'mean_fit_time': array([0.01758809, 0.01019416, 0.01059418, 0.01059384, 0.01179323,\n",
       "        0.0099947 , 0.01139021]),\n",
       " 'std_fit_time': array([0.00426935, 0.00312124, 0.00174178, 0.0026537 , 0.0049516 ,\n",
       "        0.00063166, 0.00286708]),\n",
       " 'mean_score_time': array([0.01958981, 0.00859575, 0.01099653, 0.01119127, 0.0101934 ,\n",
       "        0.01059594, 0.01259298]),\n",
       " 'std_score_time': array([0.0092603 , 0.00257415, 0.00167354, 0.00271079, 0.00324766,\n",
       "        0.00048932, 0.00462795]),\n",
       " 'param_n_neighbors': masked_array(data=[1, 3, 5, 7, 9, 11, 21],\n",
       "              mask=[False, False, False, False, False, False, False],\n",
       "        fill_value='?',\n",
       "             dtype=object),\n",
       " 'params': [{'n_neighbors': 1},\n",
       "  {'n_neighbors': 3},\n",
       "  {'n_neighbors': 5},\n",
       "  {'n_neighbors': 7},\n",
       "  {'n_neighbors': 9},\n",
       "  {'n_neighbors': 11},\n",
       "  {'n_neighbors': 21}],\n",
       " 'split0_test_score': array([0.27915292, 0.59056521, 0.46727662, 0.37211946, 0.34624141,\n",
       "        0.34184971, 0.29704771]),\n",
       " 'split1_test_score': array([0.43757596, 0.54036352, 0.52152711, 0.4752693 , 0.52059966,\n",
       "        0.52324148, 0.45004344]),\n",
       " 'split2_test_score': array([-0.33627356,  0.17938857,  0.22795225,  0.05690697,  0.14582767,\n",
       "         0.15889086,  0.2010413 ]),\n",
       " 'split3_test_score': array([0.61182277, 0.5748248 , 0.45286292, 0.46311078, 0.41921525,\n",
       "        0.39692961, 0.28961515]),\n",
       " 'split4_test_score': array([0.29060836, 0.279114  , 0.38008943, 0.40720137, 0.39415084,\n",
       "        0.37927173, 0.28365442]),\n",
       " 'mean_test_score': array([0.25657729, 0.43285122, 0.40994167, 0.35492158, 0.36520697,\n",
       "        0.36003668, 0.3042804 ]),\n",
       " 'std_test_score': array([0.32003118, 0.16998091, 0.10157967, 0.15364253, 0.12360299,\n",
       "        0.11760722, 0.08074402]),\n",
       " 'rank_test_score': array([7, 1, 2, 5, 3, 4, 6])}"
      ]
     },
     "execution_count": 101,
     "metadata": {},
     "output_type": "execute_result"
    }
   ],
   "source": [
    "model.cv_results_"
   ]
  },
  {
   "cell_type": "code",
   "execution_count": 102,
   "metadata": {},
   "outputs": [
    {
     "name": "stdout",
     "output_type": "stream",
     "text": [
      "{'n_neighbors': 3} 0.43285122306184354 KNeighborsRegressor(algorithm='auto', leaf_size=30, metric='minkowski',\n",
      "                    metric_params=None, n_jobs=None, n_neighbors=3, p=2,\n",
      "                    weights='uniform')\n"
     ]
    }
   ],
   "source": [
    "\n",
    "print(model.best_params_,model.best_score_,model.best_estimator_)"
   ]
  },
  {
   "cell_type": "code",
   "execution_count": 105,
   "metadata": {},
   "outputs": [
    {
     "data": {
      "text/plain": [
       "{'mean_fit_time': array([0.01318617, 0.006394  , 0.00700135, 0.01198931, 0.00599542,\n",
       "        0.00819659, 0.00779538, 0.00738945, 0.00698934, 0.00639377]),\n",
       " 'std_fit_time': array([0.00917134, 0.00387773, 0.0032941 , 0.01099719, 0.00362928,\n",
       "        0.0022164 , 0.00318667, 0.00344963, 0.00219748, 0.00160818]),\n",
       " 'mean_score_time': array([0.01279807, 0.0069953 , 0.00738974, 0.0087965 , 0.00400181,\n",
       "        0.0069901 , 0.00760217, 0.02119856, 0.00859509, 0.00998969]),\n",
       " 'std_score_time': array([0.00957637, 0.00368584, 0.00101677, 0.00381388, 0.00063231,\n",
       "        0.00218612, 0.00273266, 0.02799114, 0.00195711, 0.00516873]),\n",
       " 'param_n_neighbors': masked_array(data=[1, 1, 3, 3, 5, 5, 7, 7, 9, 9],\n",
       "              mask=[False, False, False, False, False, False, False, False,\n",
       "                    False, False],\n",
       "        fill_value='?',\n",
       "             dtype=object),\n",
       " 'param_weights': masked_array(data=['uniform', 'distance', 'uniform', 'distance',\n",
       "                    'uniform', 'distance', 'uniform', 'distance',\n",
       "                    'uniform', 'distance'],\n",
       "              mask=[False, False, False, False, False, False, False, False,\n",
       "                    False, False],\n",
       "        fill_value='?',\n",
       "             dtype=object),\n",
       " 'params': [{'n_neighbors': 1, 'weights': 'uniform'},\n",
       "  {'n_neighbors': 1, 'weights': 'distance'},\n",
       "  {'n_neighbors': 3, 'weights': 'uniform'},\n",
       "  {'n_neighbors': 3, 'weights': 'distance'},\n",
       "  {'n_neighbors': 5, 'weights': 'uniform'},\n",
       "  {'n_neighbors': 5, 'weights': 'distance'},\n",
       "  {'n_neighbors': 7, 'weights': 'uniform'},\n",
       "  {'n_neighbors': 7, 'weights': 'distance'},\n",
       "  {'n_neighbors': 9, 'weights': 'uniform'},\n",
       "  {'n_neighbors': 9, 'weights': 'distance'}],\n",
       " 'split0_test_score': array([0.27915292, 0.27915292, 0.59056521, 0.58874193, 0.46727662,\n",
       "        0.55522432, 0.37211946, 0.49407948, 0.34624141, 0.47285214]),\n",
       " 'split1_test_score': array([0.43757596, 0.43757596, 0.54036352, 0.53277734, 0.52152711,\n",
       "        0.54782825, 0.4752693 , 0.53817365, 0.52059966, 0.56048427]),\n",
       " 'split2_test_score': array([-0.33627356, -0.33627356,  0.17938857,  0.23583861,  0.22795225,\n",
       "         0.32277318,  0.05690697,  0.23525556,  0.14582767,  0.29396012]),\n",
       " 'split3_test_score': array([0.61182277, 0.61182277, 0.5748248 , 0.60723482, 0.45286292,\n",
       "        0.56060023, 0.46311078, 0.57619636, 0.41921525, 0.55538987]),\n",
       " 'split4_test_score': array([0.29060836, 0.29060836, 0.279114  , 0.32151633, 0.38008943,\n",
       "        0.41871479, 0.40720137, 0.45888998, 0.39415084, 0.45595842]),\n",
       " 'mean_test_score': array([0.25657729, 0.25657729, 0.43285122, 0.45722181, 0.40994167,\n",
       "        0.48102816, 0.35492158, 0.46051901, 0.36520697, 0.46772897]),\n",
       " 'std_test_score': array([0.32003118, 0.32003118, 0.16998091, 0.15029077, 0.10157967,\n",
       "        0.09510692, 0.15364253, 0.11940191, 0.12360299, 0.09659025]),\n",
       " 'rank_test_score': array([9, 9, 5, 4, 6, 1, 8, 3, 7, 2])}"
      ]
     },
     "execution_count": 105,
     "metadata": {},
     "output_type": "execute_result"
    }
   ],
   "source": [
    "#GridSearch CV\n",
    "\n",
    "from sklearn.model_selection import GridSearchCV\n",
    "params = {'weights':['uniform','distance'],\n",
    "         'n_neighbors':[1,3,5,7,9]}\n",
    "\n",
    "knn = KNeighborsRegressor()\n",
    "\n",
    "\n",
    "\n",
    "model = GridSearchCV(knn, params, cv=5)\n",
    "model.fit(X_train,y_train)\n",
    "\n",
    "model.cv_results_\n"
   ]
  },
  {
   "cell_type": "code",
   "execution_count": 65,
   "metadata": {},
   "outputs": [],
   "source": [
    "\n",
    "#pd.concat([df_y_pred,df_y_test],axis=1,sort=True)#,ignore_index=True, sort=False)"
   ]
  },
  {
   "cell_type": "markdown",
   "metadata": {},
   "source": [
    "# evaluation"
   ]
  },
  {
   "cell_type": "code",
   "execution_count": 79,
   "metadata": {},
   "outputs": [],
   "source": [
    "error_rate = []\n",
    "# Will take some time\n",
    "for i in range(1,40):\n",
    " \n",
    "    knn = KNeighborsRegressor(n_neighbors=i)\n",
    "    knn.fit(X_train,y_train)\n",
    "    pred_i = knn.predict(X_test)\n",
    "    \n",
    "    error_rate.append(sqrt(mean_squared_error(y_test,y_pred2)))\n",
    "     \n",
    "#     np.mean(pred_i != y_test))"
   ]
  },
  {
   "cell_type": "code",
   "execution_count": 80,
   "metadata": {},
   "outputs": [
    {
     "data": {
      "text/plain": [
       "Text(0, 0.5, 'Error Rate')"
      ]
     },
     "execution_count": 80,
     "metadata": {},
     "output_type": "execute_result"
    },
    {
     "data": {
      "image/png": "[encoded data removed]",
      "text/plain": [
       "<Figure size 720x432 with 1 Axes>"
      ]
     },
     "metadata": {
      "needs_background": "light"
     },
     "output_type": "display_data"
    }
   ],
   "source": [
    "plt.figure(figsize=(10,6))\n",
    "plt.plot(range(1,40),error_rate,color='blue', linestyle='dashed', marker='o',\n",
    " markerfacecolor='red', markersize=10)\n",
    "plt.title('Error Rate vs. K Value')\n",
    "plt.xlabel('K')\n",
    "plt.ylabel('Error Rate')"
   ]
  }
 ],
 "metadata": {
  "kernelspec": {
   "display_name": "Python 3",
   "language": "python",
   "name": "python3"
  },
  "language_info": {
   "codemirror_mode": {
    "name": "ipython",
    "version": 3
   },
   "file_extension": ".py",
   "mimetype": "text/x-python",
   "name": "python",
   "nbconvert_exporter": "python",
   "pygments_lexer": "ipython3",
   "version": "3.7.6"
  }
 },
 "nbformat": 4,
 "nbformat_minor": 4
}
